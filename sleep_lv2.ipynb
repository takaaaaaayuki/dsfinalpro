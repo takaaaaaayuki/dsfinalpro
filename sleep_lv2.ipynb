{
 "cells": [
  {
   "cell_type": "code",
   "execution_count": 1,
   "metadata": {},
   "outputs": [
    {
     "name": "stderr",
     "output_type": "stream",
     "text": [
      "/Users/takayuki/dsfinalpro/myenv/lib/python3.9/site-packages/urllib3/__init__.py:34: NotOpenSSLWarning: urllib3 v2 only supports OpenSSL 1.1.1+, currently the 'ssl' module is compiled with 'LibreSSL 2.8.3'. See: https://github.com/urllib3/urllib3/issues/3020\n",
      "  warnings.warn(\n"
     ]
    },
    {
     "name": "stdout",
     "output_type": "stream",
     "text": [
      "<class 'bs4.BeautifulSoup'>\n"
     ]
    }
   ],
   "source": [
    "import requests\n",
    "from bs4 import BeautifulSoup\n",
    "\n",
    "# アクセスしたいWebサイトのURL\n",
    "url = 'https://www.data.jma.go.jp/stats/etrn/view/daily_s1.php?prec_no=44&block_no=47662&year=2023&month=12&day=&view='\n",
    "\n",
    "# Webサーバにリクエストを出す\n",
    "r = requests.get(url)\n",
    "\n",
    "# HTMLソースをBeautifulSoupオブジェクトに変換\n",
    "soup = BeautifulSoup(r.text, 'html.parser')\n",
    "print(type(soup))"
   ]
  },
  {
   "cell_type": "code",
   "execution_count": 2,
   "metadata": {},
   "outputs": [
    {
     "name": "stdout",
     "output_type": "stream",
     "text": [
      "1\n",
      "2\n",
      "3\n",
      "4\n",
      "5\n",
      "6\n",
      "7\n",
      "8\n",
      "9\n",
      "10\n",
      "11\n",
      "12\n",
      "13\n",
      "14\n",
      "15\n",
      "16\n",
      "17\n",
      "18\n",
      "19\n",
      "20\n",
      "21\n",
      "22\n",
      "23\n",
      "24\n",
      "25\n",
      "26\n",
      "27\n",
      "28\n",
      "29\n",
      "30\n",
      "31\n"
     ]
    }
   ],
   "source": [
    "detas = soup.find_all('tr', style=\"text-align:right;\")\n",
    "for index, data in enumerate(detas):\n",
    "    a_tag = data.find('a')\n",
    "    if a_tag:\n",
    "        day = a_tag.text\n",
    "        print(day)\n",
    "    else:\n",
    "        print(\"aタグが見つかりませんでした\")"
   ]
  },
  {
   "cell_type": "code",
   "execution_count": null,
   "metadata": {},
   "outputs": [],
   "source": [
    "import sqlite3\n",
    "\n",
    "# DBファイルを保存するためのファイルパス\n",
    "path = '/Users/takayuki/Lecture/ds-programming'\n",
    "\n",
    "# DBファイル名\n",
    "db_name = 'sleeplv.sqlite'\n",
    "\n",
    "# DBに接続する\n",
    "con = sqlite3.connect(path + '/' + db_name)\n",
    "\n",
    "# SQLを実行するためのオブジェクトを取得\n",
    "cur = con.cursor()\n",
    "\n",
    "# テーブルを作成するSQL\n",
    "sql_create_table = '''\n",
    "    CREATE TABLE IF NOT EXISTS sleeplv (\n",
    "        day TEXT,\n",
    "        hpa REAL,\n",
    "        Precipitation TEXT,\n",
    "        temp_av REAL,\n",
    "        temp_max REAL,\n",
    "        temp_min REAL,\n",
    "        humidity_av TEXT,\n",
    "        suntime TEXT\n",
    "    );\n",
    "'''\n",
    "\n",
    "# CREATE TABLE IF NOT EXISTS ensures that the table is created only if it doesn't already exist\n",
    "cur.execute(sql_create_table)"
   ]
  }
 ],
 "metadata": {
  "kernelspec": {
   "display_name": "myenv",
   "language": "python",
   "name": "python3"
  },
  "language_info": {
   "codemirror_mode": {
    "name": "ipython",
    "version": 3
   },
   "file_extension": ".py",
   "mimetype": "text/x-python",
   "name": "python",
   "nbconvert_exporter": "python",
   "pygments_lexer": "ipython3",
   "version": "3.9.6"
  }
 },
 "nbformat": 4,
 "nbformat_minor": 2
}
